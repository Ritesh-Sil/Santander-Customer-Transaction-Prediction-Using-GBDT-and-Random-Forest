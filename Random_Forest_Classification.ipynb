{
  "nbformat": 4,
  "nbformat_minor": 0,
  "metadata": {
    "colab": {
      "name": "Random Forest Classification.ipynb",
      "provenance": [],
      "authorship_tag": "ABX9TyM8T/aFEdEbIg6CEeHGHLga",
      "include_colab_link": true
    },
    "kernelspec": {
      "name": "python3",
      "display_name": "Python 3"
    },
    "language_info": {
      "name": "python"
    }
  },
  "cells": [
    {
      "cell_type": "markdown",
      "metadata": {
        "id": "view-in-github",
        "colab_type": "text"
      },
      "source": [
        "<a href=\"https://colab.research.google.com/github/Ritesh-Sil/Santander-Customer-Transaction-Prediction-Using-GBDT-and-Random-Forest/blob/Master/Random_Forest_Classification.ipynb\" target=\"_parent\"><img src=\"https://colab.research.google.com/assets/colab-badge.svg\" alt=\"Open In Colab\"/></a>"
      ]
    },
    {
      "cell_type": "code",
      "execution_count": 2,
      "metadata": {
        "id": "i_ZsQQcXjr_a"
      },
      "outputs": [],
      "source": [
        "# from google.colab import files\n",
        "# files.upload()"
      ]
    },
    {
      "cell_type": "code",
      "source": [
        "!pip install -q kaggle"
      ],
      "metadata": {
        "id": "r67icuNgkMk5"
      },
      "execution_count": 3,
      "outputs": []
    },
    {
      "cell_type": "code",
      "source": [
        "!mkdir -p ~/.kaggle"
      ],
      "metadata": {
        "id": "WPOsYEf5kMna"
      },
      "execution_count": 4,
      "outputs": []
    },
    {
      "cell_type": "code",
      "source": [
        "!cp kaggle.json ~/.kaggle/"
      ],
      "metadata": {
        "id": "_lUKBv5akMsI"
      },
      "execution_count": 5,
      "outputs": []
    },
    {
      "cell_type": "code",
      "source": [
        "!chmod 600 ~/.kaggle/kaggle.json"
      ],
      "metadata": {
        "id": "WoTvOmHYkMu6"
      },
      "execution_count": 6,
      "outputs": []
    },
    {
      "cell_type": "code",
      "source": [
        "!kaggle datasets list -s 'Santander Customer Transaction Prediction'"
      ],
      "metadata": {
        "colab": {
          "base_uri": "https://localhost:8080/"
        },
        "id": "5R8fJ6R2kMxb",
        "outputId": "7ad30060-c340-47ab-e35a-ac1e1d6392e5"
      },
      "execution_count": 7,
      "outputs": [
        {
          "output_type": "stream",
          "name": "stdout",
          "text": [
            "ref                                                                title                                               size  lastUpdated          downloadCount  voteCount  usabilityRating  \n",
            "-----------------------------------------------------------------  -------------------------------------------------  -----  -------------------  -------------  ---------  ---------------  \n",
            "lakshmi25npathi/santander-customer-transaction-prediction-dataset  Santander Customer Transaction Prediction Dataset  250MB  2019-05-24 06:17:57           1662         33  0.5882353        \n",
            "mrushan3/santander-customer-transaction-prediction                 santander customer transaction prediction            8MB  2020-01-30 04:52:15             76          7  0.23529412       \n",
            "thaikeras/the-shakeups-of-10-competitions                          The Shakeups of 10 Competitions                      3MB  2019-04-17 14:10:17             32          1  0.0625           \n"
          ]
        }
      ]
    },
    {
      "cell_type": "code",
      "source": [
        "!mkdir /content/santander"
      ],
      "metadata": {
        "id": "1stVNd2hkMzt"
      },
      "execution_count": 8,
      "outputs": []
    },
    {
      "cell_type": "code",
      "source": [
        "!cd /content/santander"
      ],
      "metadata": {
        "id": "17Iy4O_-kM14"
      },
      "execution_count": 9,
      "outputs": []
    },
    {
      "cell_type": "code",
      "source": [
        "!kaggle datasets download lakshmi25npathi/santander-customer-transaction-prediction-dataset"
      ],
      "metadata": {
        "colab": {
          "base_uri": "https://localhost:8080/"
        },
        "id": "QRFKLEMDkM4b",
        "outputId": "a4bf3b0e-466d-4ead-c4f3-06954c45c5dc"
      },
      "execution_count": 10,
      "outputs": [
        {
          "output_type": "stream",
          "name": "stdout",
          "text": [
            "Downloading santander-customer-transaction-prediction-dataset.zip to /content\n",
            " 97% 241M/250M [00:01<00:00, 139MB/s]\n",
            "100% 250M/250M [00:01<00:00, 143MB/s]\n"
          ]
        }
      ]
    },
    {
      "cell_type": "code",
      "source": [
        "!unzip /content/santander/santander-customer-transaction-prediction-dataset.zip -d santander"
      ],
      "metadata": {
        "colab": {
          "base_uri": "https://localhost:8080/"
        },
        "id": "GvYIGflYkM6h",
        "outputId": "4f7a2507-8655-4408-adae-03dcd4014edd"
      },
      "execution_count": 11,
      "outputs": [
        {
          "output_type": "stream",
          "name": "stdout",
          "text": [
            "Archive:  /content/santander/santander-customer-transaction-prediction-dataset.zip\n",
            "  inflating: santander/test.csv      \n",
            "  inflating: santander/train.csv     \n"
          ]
        }
      ]
    },
    {
      "cell_type": "code",
      "source": [
        "!rm -rf /content/santander/santander-customer-transaction-prediction-dataset.zip"
      ],
      "metadata": {
        "id": "z92MkFkwkM84"
      },
      "execution_count": 12,
      "outputs": []
    },
    {
      "cell_type": "markdown",
      "source": [
        "## **Import the libraries**"
      ],
      "metadata": {
        "id": "xn1nqjJ5k7V_"
      }
    },
    {
      "cell_type": "code",
      "source": [
        "import numpy as np\n",
        "import pandas as pd\n",
        "import matplotlib.pyplot as plt\n",
        "import seaborn as sns\n",
        "\n",
        "from sklearn.model_selection import train_test_split"
      ],
      "metadata": {
        "id": "4SmkomelkM_h"
      },
      "execution_count": 13,
      "outputs": []
    },
    {
      "cell_type": "code",
      "source": [
        "df_train  = pd.read_csv('/content/santander/train.csv')\n",
        "df_train.sample(5)"
      ],
      "metadata": {
        "colab": {
          "base_uri": "https://localhost:8080/",
          "height": 299
        },
        "id": "8gEyxTf8kNBx",
        "outputId": "3395aac5-cc36-4508-ffaf-2f4549aaef4e"
      },
      "execution_count": 14,
      "outputs": [
        {
          "output_type": "execute_result",
          "data": {
            "text/plain": [
              "             ID_code  target    var_0   var_1    var_2   var_3    var_4  \\\n",
              "111376  train_111376       0   9.5028 -5.7183   9.9161  5.4856  12.2521   \n",
              "142436  train_142436       0  11.4230 -1.0397  12.0697  4.9319  10.5169   \n",
              "92567    train_92567       0   6.9519 -0.0040   9.8299  7.9406   9.9490   \n",
              "117142  train_117142       0   6.6347 -2.6420  13.6998  1.8865   9.7408   \n",
              "171561  train_171561       0  10.0727  2.7770   7.7483  4.0891  10.9512   \n",
              "\n",
              "          var_5   var_6    var_7  ...  var_190  var_191  var_192  var_193  \\\n",
              "111376 -19.2856  5.6509  18.9444  ...   6.9888   7.8309   0.3909   1.4377   \n",
              "142436   6.8050  5.1299  12.9989  ...   2.6050  11.2434   4.4056   8.3781   \n",
              "92567  -13.5043  4.5398  13.7280  ...   7.4422   6.9139   0.8621   2.4705   \n",
              "117142  -2.3744  5.6198  12.3465  ...  -1.2046   6.3442   1.2037   7.9047   \n",
              "171561   2.0111  5.1548  23.3065  ...   4.1175   8.9465   2.0049   6.2198   \n",
              "\n",
              "        var_194  var_195  var_196  var_197  var_198  var_199  \n",
              "111376  15.6018   1.2922  -2.4924   7.5046  13.8695   3.7872  \n",
              "142436  11.2073   2.2541   4.7401   8.6515  17.7480   7.7755  \n",
              "92567   16.2711  -0.6231   8.5560   8.1144  21.5290   5.5877  \n",
              "117142  13.2420  -0.3358  -2.4920   7.9659  13.0995  -2.3417  \n",
              "171561  19.5822   0.7132   2.3724   8.2649  17.7094  -8.7526  \n",
              "\n",
              "[5 rows x 202 columns]"
            ],
            "text/html": [
              "\n",
              "  <div id=\"df-1f2a0902-60ec-4e3d-9483-4f78405af470\">\n",
              "    <div class=\"colab-df-container\">\n",
              "      <div>\n",
              "<style scoped>\n",
              "    .dataframe tbody tr th:only-of-type {\n",
              "        vertical-align: middle;\n",
              "    }\n",
              "\n",
              "    .dataframe tbody tr th {\n",
              "        vertical-align: top;\n",
              "    }\n",
              "\n",
              "    .dataframe thead th {\n",
              "        text-align: right;\n",
              "    }\n",
              "</style>\n",
              "<table border=\"1\" class=\"dataframe\">\n",
              "  <thead>\n",
              "    <tr style=\"text-align: right;\">\n",
              "      <th></th>\n",
              "      <th>ID_code</th>\n",
              "      <th>target</th>\n",
              "      <th>var_0</th>\n",
              "      <th>var_1</th>\n",
              "      <th>var_2</th>\n",
              "      <th>var_3</th>\n",
              "      <th>var_4</th>\n",
              "      <th>var_5</th>\n",
              "      <th>var_6</th>\n",
              "      <th>var_7</th>\n",
              "      <th>...</th>\n",
              "      <th>var_190</th>\n",
              "      <th>var_191</th>\n",
              "      <th>var_192</th>\n",
              "      <th>var_193</th>\n",
              "      <th>var_194</th>\n",
              "      <th>var_195</th>\n",
              "      <th>var_196</th>\n",
              "      <th>var_197</th>\n",
              "      <th>var_198</th>\n",
              "      <th>var_199</th>\n",
              "    </tr>\n",
              "  </thead>\n",
              "  <tbody>\n",
              "    <tr>\n",
              "      <th>111376</th>\n",
              "      <td>train_111376</td>\n",
              "      <td>0</td>\n",
              "      <td>9.5028</td>\n",
              "      <td>-5.7183</td>\n",
              "      <td>9.9161</td>\n",
              "      <td>5.4856</td>\n",
              "      <td>12.2521</td>\n",
              "      <td>-19.2856</td>\n",
              "      <td>5.6509</td>\n",
              "      <td>18.9444</td>\n",
              "      <td>...</td>\n",
              "      <td>6.9888</td>\n",
              "      <td>7.8309</td>\n",
              "      <td>0.3909</td>\n",
              "      <td>1.4377</td>\n",
              "      <td>15.6018</td>\n",
              "      <td>1.2922</td>\n",
              "      <td>-2.4924</td>\n",
              "      <td>7.5046</td>\n",
              "      <td>13.8695</td>\n",
              "      <td>3.7872</td>\n",
              "    </tr>\n",
              "    <tr>\n",
              "      <th>142436</th>\n",
              "      <td>train_142436</td>\n",
              "      <td>0</td>\n",
              "      <td>11.4230</td>\n",
              "      <td>-1.0397</td>\n",
              "      <td>12.0697</td>\n",
              "      <td>4.9319</td>\n",
              "      <td>10.5169</td>\n",
              "      <td>6.8050</td>\n",
              "      <td>5.1299</td>\n",
              "      <td>12.9989</td>\n",
              "      <td>...</td>\n",
              "      <td>2.6050</td>\n",
              "      <td>11.2434</td>\n",
              "      <td>4.4056</td>\n",
              "      <td>8.3781</td>\n",
              "      <td>11.2073</td>\n",
              "      <td>2.2541</td>\n",
              "      <td>4.7401</td>\n",
              "      <td>8.6515</td>\n",
              "      <td>17.7480</td>\n",
              "      <td>7.7755</td>\n",
              "    </tr>\n",
              "    <tr>\n",
              "      <th>92567</th>\n",
              "      <td>train_92567</td>\n",
              "      <td>0</td>\n",
              "      <td>6.9519</td>\n",
              "      <td>-0.0040</td>\n",
              "      <td>9.8299</td>\n",
              "      <td>7.9406</td>\n",
              "      <td>9.9490</td>\n",
              "      <td>-13.5043</td>\n",
              "      <td>4.5398</td>\n",
              "      <td>13.7280</td>\n",
              "      <td>...</td>\n",
              "      <td>7.4422</td>\n",
              "      <td>6.9139</td>\n",
              "      <td>0.8621</td>\n",
              "      <td>2.4705</td>\n",
              "      <td>16.2711</td>\n",
              "      <td>-0.6231</td>\n",
              "      <td>8.5560</td>\n",
              "      <td>8.1144</td>\n",
              "      <td>21.5290</td>\n",
              "      <td>5.5877</td>\n",
              "    </tr>\n",
              "    <tr>\n",
              "      <th>117142</th>\n",
              "      <td>train_117142</td>\n",
              "      <td>0</td>\n",
              "      <td>6.6347</td>\n",
              "      <td>-2.6420</td>\n",
              "      <td>13.6998</td>\n",
              "      <td>1.8865</td>\n",
              "      <td>9.7408</td>\n",
              "      <td>-2.3744</td>\n",
              "      <td>5.6198</td>\n",
              "      <td>12.3465</td>\n",
              "      <td>...</td>\n",
              "      <td>-1.2046</td>\n",
              "      <td>6.3442</td>\n",
              "      <td>1.2037</td>\n",
              "      <td>7.9047</td>\n",
              "      <td>13.2420</td>\n",
              "      <td>-0.3358</td>\n",
              "      <td>-2.4920</td>\n",
              "      <td>7.9659</td>\n",
              "      <td>13.0995</td>\n",
              "      <td>-2.3417</td>\n",
              "    </tr>\n",
              "    <tr>\n",
              "      <th>171561</th>\n",
              "      <td>train_171561</td>\n",
              "      <td>0</td>\n",
              "      <td>10.0727</td>\n",
              "      <td>2.7770</td>\n",
              "      <td>7.7483</td>\n",
              "      <td>4.0891</td>\n",
              "      <td>10.9512</td>\n",
              "      <td>2.0111</td>\n",
              "      <td>5.1548</td>\n",
              "      <td>23.3065</td>\n",
              "      <td>...</td>\n",
              "      <td>4.1175</td>\n",
              "      <td>8.9465</td>\n",
              "      <td>2.0049</td>\n",
              "      <td>6.2198</td>\n",
              "      <td>19.5822</td>\n",
              "      <td>0.7132</td>\n",
              "      <td>2.3724</td>\n",
              "      <td>8.2649</td>\n",
              "      <td>17.7094</td>\n",
              "      <td>-8.7526</td>\n",
              "    </tr>\n",
              "  </tbody>\n",
              "</table>\n",
              "<p>5 rows × 202 columns</p>\n",
              "</div>\n",
              "      <button class=\"colab-df-convert\" onclick=\"convertToInteractive('df-1f2a0902-60ec-4e3d-9483-4f78405af470')\"\n",
              "              title=\"Convert this dataframe to an interactive table.\"\n",
              "              style=\"display:none;\">\n",
              "        \n",
              "  <svg xmlns=\"http://www.w3.org/2000/svg\" height=\"24px\"viewBox=\"0 0 24 24\"\n",
              "       width=\"24px\">\n",
              "    <path d=\"M0 0h24v24H0V0z\" fill=\"none\"/>\n",
              "    <path d=\"M18.56 5.44l.94 2.06.94-2.06 2.06-.94-2.06-.94-.94-2.06-.94 2.06-2.06.94zm-11 1L8.5 8.5l.94-2.06 2.06-.94-2.06-.94L8.5 2.5l-.94 2.06-2.06.94zm10 10l.94 2.06.94-2.06 2.06-.94-2.06-.94-.94-2.06-.94 2.06-2.06.94z\"/><path d=\"M17.41 7.96l-1.37-1.37c-.4-.4-.92-.59-1.43-.59-.52 0-1.04.2-1.43.59L10.3 9.45l-7.72 7.72c-.78.78-.78 2.05 0 2.83L4 21.41c.39.39.9.59 1.41.59.51 0 1.02-.2 1.41-.59l7.78-7.78 2.81-2.81c.8-.78.8-2.07 0-2.86zM5.41 20L4 18.59l7.72-7.72 1.47 1.35L5.41 20z\"/>\n",
              "  </svg>\n",
              "      </button>\n",
              "      \n",
              "  <style>\n",
              "    .colab-df-container {\n",
              "      display:flex;\n",
              "      flex-wrap:wrap;\n",
              "      gap: 12px;\n",
              "    }\n",
              "\n",
              "    .colab-df-convert {\n",
              "      background-color: #E8F0FE;\n",
              "      border: none;\n",
              "      border-radius: 50%;\n",
              "      cursor: pointer;\n",
              "      display: none;\n",
              "      fill: #1967D2;\n",
              "      height: 32px;\n",
              "      padding: 0 0 0 0;\n",
              "      width: 32px;\n",
              "    }\n",
              "\n",
              "    .colab-df-convert:hover {\n",
              "      background-color: #E2EBFA;\n",
              "      box-shadow: 0px 1px 2px rgba(60, 64, 67, 0.3), 0px 1px 3px 1px rgba(60, 64, 67, 0.15);\n",
              "      fill: #174EA6;\n",
              "    }\n",
              "\n",
              "    [theme=dark] .colab-df-convert {\n",
              "      background-color: #3B4455;\n",
              "      fill: #D2E3FC;\n",
              "    }\n",
              "\n",
              "    [theme=dark] .colab-df-convert:hover {\n",
              "      background-color: #434B5C;\n",
              "      box-shadow: 0px 1px 3px 1px rgba(0, 0, 0, 0.15);\n",
              "      filter: drop-shadow(0px 1px 2px rgba(0, 0, 0, 0.3));\n",
              "      fill: #FFFFFF;\n",
              "    }\n",
              "  </style>\n",
              "\n",
              "      <script>\n",
              "        const buttonEl =\n",
              "          document.querySelector('#df-1f2a0902-60ec-4e3d-9483-4f78405af470 button.colab-df-convert');\n",
              "        buttonEl.style.display =\n",
              "          google.colab.kernel.accessAllowed ? 'block' : 'none';\n",
              "\n",
              "        async function convertToInteractive(key) {\n",
              "          const element = document.querySelector('#df-1f2a0902-60ec-4e3d-9483-4f78405af470');\n",
              "          const dataTable =\n",
              "            await google.colab.kernel.invokeFunction('convertToInteractive',\n",
              "                                                     [key], {});\n",
              "          if (!dataTable) return;\n",
              "\n",
              "          const docLinkHtml = 'Like what you see? Visit the ' +\n",
              "            '<a target=\"_blank\" href=https://colab.research.google.com/notebooks/data_table.ipynb>data table notebook</a>'\n",
              "            + ' to learn more about interactive tables.';\n",
              "          element.innerHTML = '';\n",
              "          dataTable['output_type'] = 'display_data';\n",
              "          await google.colab.output.renderOutput(dataTable, element);\n",
              "          const docLink = document.createElement('div');\n",
              "          docLink.innerHTML = docLinkHtml;\n",
              "          element.appendChild(docLink);\n",
              "        }\n",
              "      </script>\n",
              "    </div>\n",
              "  </div>\n",
              "  "
            ]
          },
          "metadata": {},
          "execution_count": 14
        }
      ]
    },
    {
      "cell_type": "code",
      "source": [
        "X = df_train.drop(['target','ID_code'], axis=1)\n",
        "y = df_train['target']"
      ],
      "metadata": {
        "id": "MSUHQ12hkNEJ"
      },
      "execution_count": 15,
      "outputs": []
    },
    {
      "cell_type": "code",
      "source": [
        "y.sample(5)"
      ],
      "metadata": {
        "colab": {
          "base_uri": "https://localhost:8080/"
        },
        "id": "TXXyIdK_lVmS",
        "outputId": "44c98fc1-b2a8-438f-96de-a13ef7ce416a"
      },
      "execution_count": 16,
      "outputs": [
        {
          "output_type": "execute_result",
          "data": {
            "text/plain": [
              "107274    0\n",
              "102658    0\n",
              "80565     0\n",
              "120019    0\n",
              "178074    0\n",
              "Name: target, dtype: int64"
            ]
          },
          "metadata": {},
          "execution_count": 16
        }
      ]
    },
    {
      "cell_type": "code",
      "source": [
        "X_train, X_test, y_train, y_test = train_test_split(X,y, test_size=0.2, random_state=42)"
      ],
      "metadata": {
        "id": "s-XWuC2VlVkA"
      },
      "execution_count": 17,
      "outputs": []
    },
    {
      "cell_type": "code",
      "source": [
        "from sklearn.ensemble import RandomForestClassifier"
      ],
      "metadata": {
        "id": "WMRQeSF8lVhH"
      },
      "execution_count": 18,
      "outputs": []
    },
    {
      "cell_type": "code",
      "source": [
        "rf_clf = RandomForestClassifier(n_estimators=150,max_depth=4,class_weight='balanced',verbose=1)"
      ],
      "metadata": {
        "id": "EN8A8-v6lVcP"
      },
      "execution_count": 20,
      "outputs": []
    },
    {
      "cell_type": "code",
      "source": [
        "rf_clf.fit(X_train,y_train)"
      ],
      "metadata": {
        "colab": {
          "base_uri": "https://localhost:8080/"
        },
        "id": "a_GjkoTVlVTA",
        "outputId": "e89eb5f2-b219-478c-e586-1bc2fc90dea9"
      },
      "execution_count": 21,
      "outputs": [
        {
          "output_type": "stream",
          "name": "stderr",
          "text": [
            "[Parallel(n_jobs=1)]: Using backend SequentialBackend with 1 concurrent workers.\n",
            "[Parallel(n_jobs=1)]: Done 150 out of 150 | elapsed:  3.1min finished\n"
          ]
        },
        {
          "output_type": "execute_result",
          "data": {
            "text/plain": [
              "RandomForestClassifier(class_weight='balanced', max_depth=4, n_estimators=150,\n",
              "                       verbose=1)"
            ]
          },
          "metadata": {},
          "execution_count": 21
        }
      ]
    },
    {
      "cell_type": "code",
      "source": [
        "import joblib"
      ],
      "metadata": {
        "id": "d8cl99_aoHoI"
      },
      "execution_count": 22,
      "outputs": []
    },
    {
      "cell_type": "code",
      "source": [
        "joblib.dump(rf_clf, 'Random_forest.pkl')"
      ],
      "metadata": {
        "colab": {
          "base_uri": "https://localhost:8080/"
        },
        "id": "CZsaobQYoHhH",
        "outputId": "23272a3d-665f-4255-8906-e7e71c623a2e"
      },
      "execution_count": 23,
      "outputs": [
        {
          "output_type": "execute_result",
          "data": {
            "text/plain": [
              "['Random_forest.pkl']"
            ]
          },
          "metadata": {},
          "execution_count": 23
        }
      ]
    },
    {
      "cell_type": "code",
      "source": [
        "rf_clf_model = joblib.load('/content/Random_forest.pkl')"
      ],
      "metadata": {
        "id": "OKUrJFJioHbQ"
      },
      "execution_count": 24,
      "outputs": []
    },
    {
      "cell_type": "code",
      "source": [
        "rf_clf_model.predict_proba(X_train)"
      ],
      "metadata": {
        "colab": {
          "base_uri": "https://localhost:8080/"
        },
        "id": "_OOGL-Ear9-h",
        "outputId": "bc0ac0c5-16fe-4197-e371-b332e2695404"
      },
      "execution_count": 25,
      "outputs": [
        {
          "output_type": "stream",
          "name": "stderr",
          "text": [
            "[Parallel(n_jobs=1)]: Using backend SequentialBackend with 1 concurrent workers.\n",
            "[Parallel(n_jobs=1)]: Done 150 out of 150 | elapsed:    2.2s finished\n"
          ]
        },
        {
          "output_type": "execute_result",
          "data": {
            "text/plain": [
              "array([[0.50553393, 0.49446607],\n",
              "       [0.51577727, 0.48422273],\n",
              "       [0.51677505, 0.48322495],\n",
              "       ...,\n",
              "       [0.44310113, 0.55689887],\n",
              "       [0.46704744, 0.53295256],\n",
              "       [0.5704379 , 0.4295621 ]])"
            ]
          },
          "metadata": {},
          "execution_count": 25
        }
      ]
    },
    {
      "cell_type": "code",
      "source": [
        "y_pred_prob_1 = rf_clf_model.predict_proba(X_train).T[1]"
      ],
      "metadata": {
        "colab": {
          "base_uri": "https://localhost:8080/"
        },
        "id": "iQ5DfsfuuCFB",
        "outputId": "f5dd44e1-411f-446d-88b0-cbb318d6a8b3"
      },
      "execution_count": 40,
      "outputs": [
        {
          "output_type": "stream",
          "name": "stderr",
          "text": [
            "[Parallel(n_jobs=1)]: Using backend SequentialBackend with 1 concurrent workers.\n",
            "[Parallel(n_jobs=1)]: Done 150 out of 150 | elapsed:    2.3s finished\n"
          ]
        }
      ]
    },
    {
      "cell_type": "code",
      "source": [
        "y_pred_prob_1.shape"
      ],
      "metadata": {
        "colab": {
          "base_uri": "https://localhost:8080/"
        },
        "id": "pUsgMW-K2bBj",
        "outputId": "542d544f-c50d-4be3-cbec-28646696856d"
      },
      "execution_count": 46,
      "outputs": [
        {
          "output_type": "execute_result",
          "data": {
            "text/plain": [
              "(160000,)"
            ]
          },
          "metadata": {},
          "execution_count": 46
        }
      ]
    },
    {
      "cell_type": "code",
      "source": [
        "y_train.shape"
      ],
      "metadata": {
        "colab": {
          "base_uri": "https://localhost:8080/"
        },
        "id": "yJhvz0gr2bF6",
        "outputId": "e8ce7ba5-115a-4c8c-d92d-2067f0500763"
      },
      "execution_count": 43,
      "outputs": [
        {
          "output_type": "execute_result",
          "data": {
            "text/plain": [
              "(160000,)"
            ]
          },
          "metadata": {},
          "execution_count": 43
        }
      ]
    },
    {
      "cell_type": "code",
      "source": [
        "y_pred_prob_1.shape"
      ],
      "metadata": {
        "colab": {
          "base_uri": "https://localhost:8080/"
        },
        "id": "JSGMkwHgz9Wz",
        "outputId": "ccc6c1c1-4aa3-4221-d42e-a932c30be95e"
      },
      "execution_count": 28,
      "outputs": [
        {
          "output_type": "execute_result",
          "data": {
            "text/plain": [
              "(160000,)"
            ]
          },
          "metadata": {},
          "execution_count": 28
        }
      ]
    },
    {
      "cell_type": "code",
      "source": [
        "from sklearn.metrics import accuracy_score, precision_score, recall_score"
      ],
      "metadata": {
        "id": "PfHXmsVH0Bo7"
      },
      "execution_count": 53,
      "outputs": []
    },
    {
      "cell_type": "code",
      "source": [
        "y_train_pred = rf_clf_model.predict(X_train)"
      ],
      "metadata": {
        "colab": {
          "base_uri": "https://localhost:8080/"
        },
        "id": "8SZiFoVs0TbE",
        "outputId": "e82f1e5f-d5e1-4c8a-d392-ae74558027bb"
      },
      "execution_count": 30,
      "outputs": [
        {
          "output_type": "stream",
          "name": "stderr",
          "text": [
            "[Parallel(n_jobs=1)]: Using backend SequentialBackend with 1 concurrent workers.\n",
            "[Parallel(n_jobs=1)]: Done 150 out of 150 | elapsed:    2.0s finished\n"
          ]
        }
      ]
    },
    {
      "cell_type": "code",
      "source": [
        "(y_pred_prob_1>0).astype(np.int8).shape"
      ],
      "metadata": {
        "colab": {
          "base_uri": "https://localhost:8080/"
        },
        "id": "6FQRdZG12EXZ",
        "outputId": "3b25b7e3-d238-42e6-b574-44be39f81b40"
      },
      "execution_count": 51,
      "outputs": [
        {
          "output_type": "execute_result",
          "data": {
            "text/plain": [
              "(160000,)"
            ]
          },
          "metadata": {},
          "execution_count": 51
        }
      ]
    },
    {
      "cell_type": "code",
      "source": [
        ""
      ],
      "metadata": {
        "id": "EEu_n-0H2EQZ"
      },
      "execution_count": null,
      "outputs": []
    },
    {
      "cell_type": "code",
      "source": [
        "def fn_create_perf_df(y_act , y_prob, Threshold):\n",
        "    performance = []\n",
        "    while (Threshold <=1):    \n",
        "        acc = accuracy_score(y_act, (y_prob> Threshold).astype(np.int8))\n",
        "        pre = precision_score(y_act, (y_prob> Threshold).astype(np.int8))\n",
        "        rec = recall_score(y_act, (y_prob> Threshold).astype(np.int8))\n",
        "        performance.append((Threshold,acc,pre,rec))\n",
        "        Threshold+=0.05      \n",
        "    return pd.DataFrame(performance, columns=['Threshold', 'Accuracy', 'Precision','Recall'])"
      ],
      "metadata": {
        "id": "KVNpe99C0TYx"
      },
      "execution_count": 54,
      "outputs": []
    },
    {
      "cell_type": "code",
      "source": [
        "perf_df = fn_create_perf_df(y_train , y_pred_prob_1, 0)"
      ],
      "metadata": {
        "colab": {
          "base_uri": "https://localhost:8080/"
        },
        "id": "mBG5PL3p0TWR",
        "outputId": "6f504478-2838-49a1-ead5-0214c78b6061"
      },
      "execution_count": 56,
      "outputs": [
        {
          "output_type": "stream",
          "name": "stderr",
          "text": [
            "/usr/local/lib/python3.7/dist-packages/sklearn/metrics/_classification.py:1318: UndefinedMetricWarning: Precision is ill-defined and being set to 0.0 due to no predicted samples. Use `zero_division` parameter to control this behavior.\n",
            "  _warn_prf(average, modifier, msg_start, len(result))\n",
            "/usr/local/lib/python3.7/dist-packages/sklearn/metrics/_classification.py:1318: UndefinedMetricWarning: Precision is ill-defined and being set to 0.0 due to no predicted samples. Use `zero_division` parameter to control this behavior.\n",
            "  _warn_prf(average, modifier, msg_start, len(result))\n",
            "/usr/local/lib/python3.7/dist-packages/sklearn/metrics/_classification.py:1318: UndefinedMetricWarning: Precision is ill-defined and being set to 0.0 due to no predicted samples. Use `zero_division` parameter to control this behavior.\n",
            "  _warn_prf(average, modifier, msg_start, len(result))\n",
            "/usr/local/lib/python3.7/dist-packages/sklearn/metrics/_classification.py:1318: UndefinedMetricWarning: Precision is ill-defined and being set to 0.0 due to no predicted samples. Use `zero_division` parameter to control this behavior.\n",
            "  _warn_prf(average, modifier, msg_start, len(result))\n",
            "/usr/local/lib/python3.7/dist-packages/sklearn/metrics/_classification.py:1318: UndefinedMetricWarning: Precision is ill-defined and being set to 0.0 due to no predicted samples. Use `zero_division` parameter to control this behavior.\n",
            "  _warn_prf(average, modifier, msg_start, len(result))\n",
            "/usr/local/lib/python3.7/dist-packages/sklearn/metrics/_classification.py:1318: UndefinedMetricWarning: Precision is ill-defined and being set to 0.0 due to no predicted samples. Use `zero_division` parameter to control this behavior.\n",
            "  _warn_prf(average, modifier, msg_start, len(result))\n"
          ]
        }
      ]
    },
    {
      "cell_type": "code",
      "source": [
        "fig = plt.figure(figsize=(20,8))\n",
        "ax1 = fig.add_subplot(1,2,1)\n",
        "sns.set_style('darkgrid')\n",
        "sns.lineplot(data =perf_df, x = 'Threshold', y = 'Accuracy', color ='#666547', label = 'Accuracy', marker = 'o' )\n",
        "sns.lineplot(data =perf_df, x = 'Threshold', y = 'Precision', color ='#6fcb9f', label = 'Precision', linestyle = '--' )\n",
        "sns.lineplot(data =perf_df, x = 'Threshold', y = 'Recall', color ='#961b00', label = 'Recall', linestyle = '-.' )\n",
        "plt.xlabel('Threshold', fontsize = 14)\n",
        "plt.ylabel('Performance Metrics', fontsize = 14)"
      ],
      "metadata": {
        "colab": {
          "base_uri": "https://localhost:8080/",
          "height": 518
        },
        "id": "cJkDoa4h0TT5",
        "outputId": "09d531be-a720-44f5-cece-da3a65d9817a"
      },
      "execution_count": 70,
      "outputs": [
        {
          "output_type": "execute_result",
          "data": {
            "text/plain": [
              "Text(0, 0.5, 'Performance Metrics')"
            ]
          },
          "metadata": {},
          "execution_count": 70
        },
        {
          "output_type": "display_data",
          "data": {
            "text/plain": [
              "<Figure size 1440x576 with 1 Axes>"
            ],
            "image/png": "[encoded data removed]"
          },
          "metadata": {}
        }
      ]
    },
    {
      "cell_type": "code",
      "source": [
        ""
      ],
      "metadata": {
        "id": "eH69Iyd_0TJ5"
      },
      "execution_count": null,
      "outputs": []
    }
  ]
}