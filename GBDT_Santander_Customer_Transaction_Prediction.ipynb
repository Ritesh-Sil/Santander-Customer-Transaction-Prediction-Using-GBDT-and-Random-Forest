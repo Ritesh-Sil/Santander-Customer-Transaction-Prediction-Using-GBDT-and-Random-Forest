{
  "nbformat": 4,
  "nbformat_minor": 0,
  "metadata": {
    "colab": {
      "name": "GBDT - Santander Customer Transaction Prediction.ipynb",
      "provenance": [],
      "include_colab_link": true
    },
    "kernelspec": {
      "name": "python3",
      "display_name": "Python 3"
    },
    "language_info": {
      "name": "python"
    },
    "accelerator": "GPU",
    "gpuClass": "standard"
  },
  "cells": [
    {
      "cell_type": "markdown",
      "metadata": {
        "id": "view-in-github",
        "colab_type": "text"
      },
      "source": [
        "<a href=\"https://colab.research.google.com/github/Ritesh-Sil/Santander-Customer-Transaction-Prediction-Using-GBDT-and-Random-Forest/blob/Master/GBDT_Santander_Customer_Transaction_Prediction.ipynb\" target=\"_parent\"><img src=\"https://colab.research.google.com/assets/colab-badge.svg\" alt=\"Open In Colab\"/></a>"
      ]
    },
    {
      "cell_type": "markdown",
      "source": [
        "## Preparing the Kaggle Stuffs"
      ],
      "metadata": {
        "id": "--ZcfuwWVPFm"
      }
    },
    {
      "cell_type": "code",
      "source": [
        "# from google.colab import files\n",
        "# files.upload()"
      ],
      "metadata": {
        "id": "m6bUM9c-Sb9q"
      },
      "execution_count": null,
      "outputs": []
    },
    {
      "cell_type": "code",
      "source": [
        "!pip install -q kaggle"
      ],
      "metadata": {
        "id": "LlIWvmocSiCK"
      },
      "execution_count": null,
      "outputs": []
    },
    {
      "cell_type": "code",
      "source": [
        "!mkdir -p ~/.kaggle"
      ],
      "metadata": {
        "id": "QNe243FySiEw"
      },
      "execution_count": null,
      "outputs": []
    },
    {
      "cell_type": "code",
      "source": [
        "!cp kaggle.json ~/.kaggle/"
      ],
      "metadata": {
        "id": "tlQh3BCoSiHD"
      },
      "execution_count": null,
      "outputs": []
    },
    {
      "cell_type": "code",
      "source": [
        "!chmod 600 ~/.kaggle/kaggle.json"
      ],
      "metadata": {
        "id": "OQkkXIkESiLo"
      },
      "execution_count": null,
      "outputs": []
    },
    {
      "cell_type": "code",
      "source": [
        "!kaggle datasets list -s 'Santander Customer Transaction Prediction'"
      ],
      "metadata": {
        "colab": {
          "base_uri": "https://localhost:8080/"
        },
        "id": "E6M8hhirTRAh",
        "outputId": "73b856be-066b-41d1-f386-a5e329281759"
      },
      "execution_count": null,
      "outputs": [
        {
          "output_type": "stream",
          "name": "stdout",
          "text": [
            "ref                                                                title                                               size  lastUpdated          downloadCount  voteCount  usabilityRating  \n",
            "-----------------------------------------------------------------  -------------------------------------------------  -----  -------------------  -------------  ---------  ---------------  \n",
            "lakshmi25npathi/santander-customer-transaction-prediction-dataset  Santander Customer Transaction Prediction Dataset  250MB  2019-05-24 06:17:57           1660         33  0.5882353        \n",
            "mrushan3/santander-customer-transaction-prediction                 santander customer transaction prediction            8MB  2020-01-30 04:52:15             76          7  0.23529412       \n",
            "thaikeras/the-shakeups-of-10-competitions                          The Shakeups of 10 Competitions                      3MB  2019-04-17 14:10:17             32          1  0.0625           \n"
          ]
        }
      ]
    },
    {
      "cell_type": "code",
      "source": [
        "!mkdir /content/santander"
      ],
      "metadata": {
        "id": "Ct5v_oRDTRDJ"
      },
      "execution_count": null,
      "outputs": []
    },
    {
      "cell_type": "code",
      "source": [
        "!cd /content/santander"
      ],
      "metadata": {
        "id": "tQies9T6UVhR"
      },
      "execution_count": null,
      "outputs": []
    },
    {
      "cell_type": "code",
      "source": [
        "!kaggle datasets download lakshmi25npathi/santander-customer-transaction-prediction-dataset"
      ],
      "metadata": {
        "colab": {
          "base_uri": "https://localhost:8080/"
        },
        "id": "_nn2le3nTRKo",
        "outputId": "aee4eea8-6ad3-494f-d43c-bf2facb8e12f"
      },
      "execution_count": null,
      "outputs": [
        {
          "output_type": "stream",
          "name": "stdout",
          "text": [
            "Downloading santander-customer-transaction-prediction-dataset.zip to /content\n",
            " 95% 237M/250M [00:03<00:00, 74.0MB/s]\n",
            "100% 250M/250M [00:03<00:00, 84.8MB/s]\n"
          ]
        }
      ]
    },
    {
      "cell_type": "code",
      "source": [
        "!pwd"
      ],
      "metadata": {
        "colab": {
          "base_uri": "https://localhost:8080/"
        },
        "id": "D-e6lP83TRNB",
        "outputId": "e64398f8-3f38-42a0-af62-91d54cb9d63e"
      },
      "execution_count": null,
      "outputs": [
        {
          "output_type": "stream",
          "name": "stdout",
          "text": [
            "/content\n"
          ]
        }
      ]
    },
    {
      "cell_type": "code",
      "source": [
        "!cd /content/santander/"
      ],
      "metadata": {
        "id": "IMTFv1ZtTRPZ"
      },
      "execution_count": null,
      "outputs": []
    },
    {
      "cell_type": "code",
      "source": [
        "!unzip /content/santander/santander-customer-transaction-prediction-dataset.zip -d santander"
      ],
      "metadata": {
        "colab": {
          "base_uri": "https://localhost:8080/"
        },
        "id": "8gxMSp0cTRRs",
        "outputId": "4a4533dd-f5f3-411d-f271-4d68f61c9cab"
      },
      "execution_count": null,
      "outputs": [
        {
          "output_type": "stream",
          "name": "stdout",
          "text": [
            "Archive:  /content/santander/santander-customer-transaction-prediction-dataset.zip\n",
            "  inflating: santander/test.csv      \n",
            "  inflating: santander/train.csv     \n"
          ]
        }
      ]
    },
    {
      "cell_type": "code",
      "source": [
        "!rm -rf /content/santander/santander-customer-transaction-prediction-dataset.zip"
      ],
      "metadata": {
        "id": "-7Wo9QFuTRT6"
      },
      "execution_count": null,
      "outputs": []
    },
    {
      "cell_type": "code",
      "source": [
        ""
      ],
      "metadata": {
        "id": "jgGqcTlUTRWL"
      },
      "execution_count": null,
      "outputs": []
    },
    {
      "cell_type": "markdown",
      "source": [
        "## Starting off to actual work"
      ],
      "metadata": {
        "id": "Xb09kMgzVZRd"
      }
    },
    {
      "cell_type": "markdown",
      "source": [
        "**Importing the libraries**"
      ],
      "metadata": {
        "id": "nITO7EPTVfNP"
      }
    },
    {
      "cell_type": "code",
      "execution_count": null,
      "metadata": {
        "id": "oBgQPhfiRsDl"
      },
      "outputs": [],
      "source": [
        "import numpy as np\n",
        "import pandas as pd\n",
        "import matplotlib.pyplot as plt\n",
        "import seaborn as sns\n",
        "\n",
        "from sklearn.model_selection import train_test_split"
      ]
    },
    {
      "cell_type": "code",
      "source": [
        "df_train  = pd.read_csv('/content/santander/train.csv')\n",
        "df_train.sample(5)"
      ],
      "metadata": {
        "colab": {
          "base_uri": "https://localhost:8080/",
          "height": 299
        },
        "id": "a4cvnVLITRYJ",
        "outputId": "f1d69f96-3299-42e4-b37b-45f4ced5a357"
      },
      "execution_count": null,
      "outputs": [
        {
          "output_type": "execute_result",
          "data": {
            "text/plain": [
              "             ID_code  target    var_0   var_1    var_2   var_3    var_4  \\\n",
              "6607      train_6607       0  14.8553  3.1409   8.4104  9.4878   6.7708   \n",
              "41246    train_41246       1  10.5040  3.1098  12.9729  8.2943  10.6950   \n",
              "109218  train_109218       0  14.3152 -0.6827  13.2676  5.1086  11.2682   \n",
              "58588    train_58588       0  13.9320 -9.4467   8.0982  8.8652   8.8455   \n",
              "6445      train_6445       0  10.6114 -2.7679   7.9435  3.3475  11.9259   \n",
              "\n",
              "          var_5   var_6    var_7  ...  var_190  var_191  var_192  var_193  \\\n",
              "6607    -4.5427  4.9391  14.6826  ...  -2.8402   9.2288   0.0013  -3.3478   \n",
              "41246   -0.4540  5.9444  13.4361  ...   4.0623   2.6515   1.2439   1.9726   \n",
              "109218   4.3155  6.3581  20.3985  ...   5.7971   7.9609   1.9052  10.8890   \n",
              "58588  -17.0120  5.4911  18.8186  ...   7.8636   6.3159   5.7037   8.5358   \n",
              "6445    -0.2253  5.7975  11.2915  ...   6.4769   6.2562   1.8225  -6.4596   \n",
              "\n",
              "        var_194  var_195  var_196  var_197  var_198  var_199  \n",
              "6607    17.5555  -1.0750   5.8528   9.0395  21.2842  11.5364  \n",
              "41246   23.2947  -0.0526  -3.7539   8.4528   8.7480   5.2857  \n",
              "109218  13.7267   1.3525  -1.7636   8.3139  14.2670   4.0273  \n",
              "58588   13.1309   1.9117  12.6298   9.7809  11.9195   1.4865  \n",
              "6445    18.7924  -0.3097  -1.2372   8.6005  15.9695  -7.8367  \n",
              "\n",
              "[5 rows x 202 columns]"
            ],
            "text/html": [
              "\n",
              "  <div id=\"df-af0fc902-e0fb-480e-ba45-8b2acd0ba77f\">\n",
              "    <div class=\"colab-df-container\">\n",
              "      <div>\n",
              "<style scoped>\n",
              "    .dataframe tbody tr th:only-of-type {\n",
              "        vertical-align: middle;\n",
              "    }\n",
              "\n",
              "    .dataframe tbody tr th {\n",
              "        vertical-align: top;\n",
              "    }\n",
              "\n",
              "    .dataframe thead th {\n",
              "        text-align: right;\n",
              "    }\n",
              "</style>\n",
              "<table border=\"1\" class=\"dataframe\">\n",
              "  <thead>\n",
              "    <tr style=\"text-align: right;\">\n",
              "      <th></th>\n",
              "      <th>ID_code</th>\n",
              "      <th>target</th>\n",
              "      <th>var_0</th>\n",
              "      <th>var_1</th>\n",
              "      <th>var_2</th>\n",
              "      <th>var_3</th>\n",
              "      <th>var_4</th>\n",
              "      <th>var_5</th>\n",
              "      <th>var_6</th>\n",
              "      <th>var_7</th>\n",
              "      <th>...</th>\n",
              "      <th>var_190</th>\n",
              "      <th>var_191</th>\n",
              "      <th>var_192</th>\n",
              "      <th>var_193</th>\n",
              "      <th>var_194</th>\n",
              "      <th>var_195</th>\n",
              "      <th>var_196</th>\n",
              "      <th>var_197</th>\n",
              "      <th>var_198</th>\n",
              "      <th>var_199</th>\n",
              "    </tr>\n",
              "  </thead>\n",
              "  <tbody>\n",
              "    <tr>\n",
              "      <th>6607</th>\n",
              "      <td>train_6607</td>\n",
              "      <td>0</td>\n",
              "      <td>14.8553</td>\n",
              "      <td>3.1409</td>\n",
              "      <td>8.4104</td>\n",
              "      <td>9.4878</td>\n",
              "      <td>6.7708</td>\n",
              "      <td>-4.5427</td>\n",
              "      <td>4.9391</td>\n",
              "      <td>14.6826</td>\n",
              "      <td>...</td>\n",
              "      <td>-2.8402</td>\n",
              "      <td>9.2288</td>\n",
              "      <td>0.0013</td>\n",
              "      <td>-3.3478</td>\n",
              "      <td>17.5555</td>\n",
              "      <td>-1.0750</td>\n",
              "      <td>5.8528</td>\n",
              "      <td>9.0395</td>\n",
              "      <td>21.2842</td>\n",
              "      <td>11.5364</td>\n",
              "    </tr>\n",
              "    <tr>\n",
              "      <th>41246</th>\n",
              "      <td>train_41246</td>\n",
              "      <td>1</td>\n",
              "      <td>10.5040</td>\n",
              "      <td>3.1098</td>\n",
              "      <td>12.9729</td>\n",
              "      <td>8.2943</td>\n",
              "      <td>10.6950</td>\n",
              "      <td>-0.4540</td>\n",
              "      <td>5.9444</td>\n",
              "      <td>13.4361</td>\n",
              "      <td>...</td>\n",
              "      <td>4.0623</td>\n",
              "      <td>2.6515</td>\n",
              "      <td>1.2439</td>\n",
              "      <td>1.9726</td>\n",
              "      <td>23.2947</td>\n",
              "      <td>-0.0526</td>\n",
              "      <td>-3.7539</td>\n",
              "      <td>8.4528</td>\n",
              "      <td>8.7480</td>\n",
              "      <td>5.2857</td>\n",
              "    </tr>\n",
              "    <tr>\n",
              "      <th>109218</th>\n",
              "      <td>train_109218</td>\n",
              "      <td>0</td>\n",
              "      <td>14.3152</td>\n",
              "      <td>-0.6827</td>\n",
              "      <td>13.2676</td>\n",
              "      <td>5.1086</td>\n",
              "      <td>11.2682</td>\n",
              "      <td>4.3155</td>\n",
              "      <td>6.3581</td>\n",
              "      <td>20.3985</td>\n",
              "      <td>...</td>\n",
              "      <td>5.7971</td>\n",
              "      <td>7.9609</td>\n",
              "      <td>1.9052</td>\n",
              "      <td>10.8890</td>\n",
              "      <td>13.7267</td>\n",
              "      <td>1.3525</td>\n",
              "      <td>-1.7636</td>\n",
              "      <td>8.3139</td>\n",
              "      <td>14.2670</td>\n",
              "      <td>4.0273</td>\n",
              "    </tr>\n",
              "    <tr>\n",
              "      <th>58588</th>\n",
              "      <td>train_58588</td>\n",
              "      <td>0</td>\n",
              "      <td>13.9320</td>\n",
              "      <td>-9.4467</td>\n",
              "      <td>8.0982</td>\n",
              "      <td>8.8652</td>\n",
              "      <td>8.8455</td>\n",
              "      <td>-17.0120</td>\n",
              "      <td>5.4911</td>\n",
              "      <td>18.8186</td>\n",
              "      <td>...</td>\n",
              "      <td>7.8636</td>\n",
              "      <td>6.3159</td>\n",
              "      <td>5.7037</td>\n",
              "      <td>8.5358</td>\n",
              "      <td>13.1309</td>\n",
              "      <td>1.9117</td>\n",
              "      <td>12.6298</td>\n",
              "      <td>9.7809</td>\n",
              "      <td>11.9195</td>\n",
              "      <td>1.4865</td>\n",
              "    </tr>\n",
              "    <tr>\n",
              "      <th>6445</th>\n",
              "      <td>train_6445</td>\n",
              "      <td>0</td>\n",
              "      <td>10.6114</td>\n",
              "      <td>-2.7679</td>\n",
              "      <td>7.9435</td>\n",
              "      <td>3.3475</td>\n",
              "      <td>11.9259</td>\n",
              "      <td>-0.2253</td>\n",
              "      <td>5.7975</td>\n",
              "      <td>11.2915</td>\n",
              "      <td>...</td>\n",
              "      <td>6.4769</td>\n",
              "      <td>6.2562</td>\n",
              "      <td>1.8225</td>\n",
              "      <td>-6.4596</td>\n",
              "      <td>18.7924</td>\n",
              "      <td>-0.3097</td>\n",
              "      <td>-1.2372</td>\n",
              "      <td>8.6005</td>\n",
              "      <td>15.9695</td>\n",
              "      <td>-7.8367</td>\n",
              "    </tr>\n",
              "  </tbody>\n",
              "</table>\n",
              "<p>5 rows × 202 columns</p>\n",
              "</div>\n",
              "      <button class=\"colab-df-convert\" onclick=\"convertToInteractive('df-af0fc902-e0fb-480e-ba45-8b2acd0ba77f')\"\n",
              "              title=\"Convert this dataframe to an interactive table.\"\n",
              "              style=\"display:none;\">\n",
              "        \n",
              "  <svg xmlns=\"http://www.w3.org/2000/svg\" height=\"24px\"viewBox=\"0 0 24 24\"\n",
              "       width=\"24px\">\n",
              "    <path d=\"M0 0h24v24H0V0z\" fill=\"none\"/>\n",
              "    <path d=\"M18.56 5.44l.94 2.06.94-2.06 2.06-.94-2.06-.94-.94-2.06-.94 2.06-2.06.94zm-11 1L8.5 8.5l.94-2.06 2.06-.94-2.06-.94L8.5 2.5l-.94 2.06-2.06.94zm10 10l.94 2.06.94-2.06 2.06-.94-2.06-.94-.94-2.06-.94 2.06-2.06.94z\"/><path d=\"M17.41 7.96l-1.37-1.37c-.4-.4-.92-.59-1.43-.59-.52 0-1.04.2-1.43.59L10.3 9.45l-7.72 7.72c-.78.78-.78 2.05 0 2.83L4 21.41c.39.39.9.59 1.41.59.51 0 1.02-.2 1.41-.59l7.78-7.78 2.81-2.81c.8-.78.8-2.07 0-2.86zM5.41 20L4 18.59l7.72-7.72 1.47 1.35L5.41 20z\"/>\n",
              "  </svg>\n",
              "      </button>\n",
              "      \n",
              "  <style>\n",
              "    .colab-df-container {\n",
              "      display:flex;\n",
              "      flex-wrap:wrap;\n",
              "      gap: 12px;\n",
              "    }\n",
              "\n",
              "    .colab-df-convert {\n",
              "      background-color: #E8F0FE;\n",
              "      border: none;\n",
              "      border-radius: 50%;\n",
              "      cursor: pointer;\n",
              "      display: none;\n",
              "      fill: #1967D2;\n",
              "      height: 32px;\n",
              "      padding: 0 0 0 0;\n",
              "      width: 32px;\n",
              "    }\n",
              "\n",
              "    .colab-df-convert:hover {\n",
              "      background-color: #E2EBFA;\n",
              "      box-shadow: 0px 1px 2px rgba(60, 64, 67, 0.3), 0px 1px 3px 1px rgba(60, 64, 67, 0.15);\n",
              "      fill: #174EA6;\n",
              "    }\n",
              "\n",
              "    [theme=dark] .colab-df-convert {\n",
              "      background-color: #3B4455;\n",
              "      fill: #D2E3FC;\n",
              "    }\n",
              "\n",
              "    [theme=dark] .colab-df-convert:hover {\n",
              "      background-color: #434B5C;\n",
              "      box-shadow: 0px 1px 3px 1px rgba(0, 0, 0, 0.15);\n",
              "      filter: drop-shadow(0px 1px 2px rgba(0, 0, 0, 0.3));\n",
              "      fill: #FFFFFF;\n",
              "    }\n",
              "  </style>\n",
              "\n",
              "      <script>\n",
              "        const buttonEl =\n",
              "          document.querySelector('#df-af0fc902-e0fb-480e-ba45-8b2acd0ba77f button.colab-df-convert');\n",
              "        buttonEl.style.display =\n",
              "          google.colab.kernel.accessAllowed ? 'block' : 'none';\n",
              "\n",
              "        async function convertToInteractive(key) {\n",
              "          const element = document.querySelector('#df-af0fc902-e0fb-480e-ba45-8b2acd0ba77f');\n",
              "          const dataTable =\n",
              "            await google.colab.kernel.invokeFunction('convertToInteractive',\n",
              "                                                     [key], {});\n",
              "          if (!dataTable) return;\n",
              "\n",
              "          const docLinkHtml = 'Like what you see? Visit the ' +\n",
              "            '<a target=\"_blank\" href=https://colab.research.google.com/notebooks/data_table.ipynb>data table notebook</a>'\n",
              "            + ' to learn more about interactive tables.';\n",
              "          element.innerHTML = '';\n",
              "          dataTable['output_type'] = 'display_data';\n",
              "          await google.colab.output.renderOutput(dataTable, element);\n",
              "          const docLink = document.createElement('div');\n",
              "          docLink.innerHTML = docLinkHtml;\n",
              "          element.appendChild(docLink);\n",
              "        }\n",
              "      </script>\n",
              "    </div>\n",
              "  </div>\n",
              "  "
            ]
          },
          "metadata": {},
          "execution_count": 23
        }
      ]
    },
    {
      "cell_type": "code",
      "source": [
        "df_train = df_train.drop(['ID_code'], axis=1)"
      ],
      "metadata": {
        "id": "7VtOWTNOc9Oz"
      },
      "execution_count": null,
      "outputs": []
    },
    {
      "cell_type": "code",
      "source": [
        "X = df_train.drop(['target'], axis=1)\n",
        "y = df_train['target']"
      ],
      "metadata": {
        "id": "R8y_aOJ7dAD3"
      },
      "execution_count": null,
      "outputs": []
    },
    {
      "cell_type": "code",
      "source": [
        "X.sample(5)"
      ],
      "metadata": {
        "colab": {
          "base_uri": "https://localhost:8080/",
          "height": 299
        },
        "id": "kyCOlZZOdhUE",
        "outputId": "5716f7a8-3571-4257-e1bb-c3acd9f9d99c"
      },
      "execution_count": null,
      "outputs": [
        {
          "output_type": "execute_result",
          "data": {
            "text/plain": [
              "          var_0   var_1    var_2   var_3    var_4    var_5   var_6    var_7  \\\n",
              "55660   13.8779 -1.1218  13.4303  7.4022  10.8302   0.2110  5.3208  17.0175   \n",
              "81723   12.5368 -2.9250  12.9431  6.2285  14.1705   6.8867  5.0953  11.1952   \n",
              "131445  12.7193 -2.9061  10.5189  5.1946  12.8099 -18.5732  5.2670  15.7204   \n",
              "47800    8.0423  2.3686   9.0603  7.2908   9.3633   2.3617  4.6056  16.0864   \n",
              "105035  17.7174 -6.2069  11.3634  5.9928  13.3340   7.1912  5.0301  14.1267   \n",
              "\n",
              "         var_8   var_9  ...  var_190  var_191  var_192  var_193  var_194  \\\n",
              "55660   6.4567  8.4591  ...   6.0713   9.2721  -0.3187   9.2693  18.1709   \n",
              "81723   1.0588  8.9841  ...   3.6045   3.8091   1.9575   1.5772  14.7957   \n",
              "131445  5.4624  6.3062  ...  -1.9219   5.5784   1.6070   8.8838  19.1044   \n",
              "47800  -1.2803  7.6846  ...   0.1395   8.7650   2.0233   4.6744  13.1866   \n",
              "105035 -4.9890  9.0275  ...   1.7732   4.8350   2.1923  10.3905  19.8791   \n",
              "\n",
              "        var_195  var_196  var_197  var_198  var_199  \n",
              "55660    0.2039   1.8633   7.9049  17.3561   3.2989  \n",
              "81723    1.4413   3.6802   8.0102  14.1002   3.1665  \n",
              "131445  -0.1528  12.4607   9.6928  15.9378  -0.6059  \n",
              "47800   -1.2879   1.8988   9.1004  17.2588  -9.7761  \n",
              "105035  -2.1644  10.4597   7.4648  18.0987  -9.5233  \n",
              "\n",
              "[5 rows x 200 columns]"
            ],
            "text/html": [
              "\n",
              "  <div id=\"df-de688a2a-28b6-46c6-a80e-6cbf40c316cb\">\n",
              "    <div class=\"colab-df-container\">\n",
              "      <div>\n",
              "<style scoped>\n",
              "    .dataframe tbody tr th:only-of-type {\n",
              "        vertical-align: middle;\n",
              "    }\n",
              "\n",
              "    .dataframe tbody tr th {\n",
              "        vertical-align: top;\n",
              "    }\n",
              "\n",
              "    .dataframe thead th {\n",
              "        text-align: right;\n",
              "    }\n",
              "</style>\n",
              "<table border=\"1\" class=\"dataframe\">\n",
              "  <thead>\n",
              "    <tr style=\"text-align: right;\">\n",
              "      <th></th>\n",
              "      <th>var_0</th>\n",
              "      <th>var_1</th>\n",
              "      <th>var_2</th>\n",
              "      <th>var_3</th>\n",
              "      <th>var_4</th>\n",
              "      <th>var_5</th>\n",
              "      <th>var_6</th>\n",
              "      <th>var_7</th>\n",
              "      <th>var_8</th>\n",
              "      <th>var_9</th>\n",
              "      <th>...</th>\n",
              "      <th>var_190</th>\n",
              "      <th>var_191</th>\n",
              "      <th>var_192</th>\n",
              "      <th>var_193</th>\n",
              "      <th>var_194</th>\n",
              "      <th>var_195</th>\n",
              "      <th>var_196</th>\n",
              "      <th>var_197</th>\n",
              "      <th>var_198</th>\n",
              "      <th>var_199</th>\n",
              "    </tr>\n",
              "  </thead>\n",
              "  <tbody>\n",
              "    <tr>\n",
              "      <th>55660</th>\n",
              "      <td>13.8779</td>\n",
              "      <td>-1.1218</td>\n",
              "      <td>13.4303</td>\n",
              "      <td>7.4022</td>\n",
              "      <td>10.8302</td>\n",
              "      <td>0.2110</td>\n",
              "      <td>5.3208</td>\n",
              "      <td>17.0175</td>\n",
              "      <td>6.4567</td>\n",
              "      <td>8.4591</td>\n",
              "      <td>...</td>\n",
              "      <td>6.0713</td>\n",
              "      <td>9.2721</td>\n",
              "      <td>-0.3187</td>\n",
              "      <td>9.2693</td>\n",
              "      <td>18.1709</td>\n",
              "      <td>0.2039</td>\n",
              "      <td>1.8633</td>\n",
              "      <td>7.9049</td>\n",
              "      <td>17.3561</td>\n",
              "      <td>3.2989</td>\n",
              "    </tr>\n",
              "    <tr>\n",
              "      <th>81723</th>\n",
              "      <td>12.5368</td>\n",
              "      <td>-2.9250</td>\n",
              "      <td>12.9431</td>\n",
              "      <td>6.2285</td>\n",
              "      <td>14.1705</td>\n",
              "      <td>6.8867</td>\n",
              "      <td>5.0953</td>\n",
              "      <td>11.1952</td>\n",
              "      <td>1.0588</td>\n",
              "      <td>8.9841</td>\n",
              "      <td>...</td>\n",
              "      <td>3.6045</td>\n",
              "      <td>3.8091</td>\n",
              "      <td>1.9575</td>\n",
              "      <td>1.5772</td>\n",
              "      <td>14.7957</td>\n",
              "      <td>1.4413</td>\n",
              "      <td>3.6802</td>\n",
              "      <td>8.0102</td>\n",
              "      <td>14.1002</td>\n",
              "      <td>3.1665</td>\n",
              "    </tr>\n",
              "    <tr>\n",
              "      <th>131445</th>\n",
              "      <td>12.7193</td>\n",
              "      <td>-2.9061</td>\n",
              "      <td>10.5189</td>\n",
              "      <td>5.1946</td>\n",
              "      <td>12.8099</td>\n",
              "      <td>-18.5732</td>\n",
              "      <td>5.2670</td>\n",
              "      <td>15.7204</td>\n",
              "      <td>5.4624</td>\n",
              "      <td>6.3062</td>\n",
              "      <td>...</td>\n",
              "      <td>-1.9219</td>\n",
              "      <td>5.5784</td>\n",
              "      <td>1.6070</td>\n",
              "      <td>8.8838</td>\n",
              "      <td>19.1044</td>\n",
              "      <td>-0.1528</td>\n",
              "      <td>12.4607</td>\n",
              "      <td>9.6928</td>\n",
              "      <td>15.9378</td>\n",
              "      <td>-0.6059</td>\n",
              "    </tr>\n",
              "    <tr>\n",
              "      <th>47800</th>\n",
              "      <td>8.0423</td>\n",
              "      <td>2.3686</td>\n",
              "      <td>9.0603</td>\n",
              "      <td>7.2908</td>\n",
              "      <td>9.3633</td>\n",
              "      <td>2.3617</td>\n",
              "      <td>4.6056</td>\n",
              "      <td>16.0864</td>\n",
              "      <td>-1.2803</td>\n",
              "      <td>7.6846</td>\n",
              "      <td>...</td>\n",
              "      <td>0.1395</td>\n",
              "      <td>8.7650</td>\n",
              "      <td>2.0233</td>\n",
              "      <td>4.6744</td>\n",
              "      <td>13.1866</td>\n",
              "      <td>-1.2879</td>\n",
              "      <td>1.8988</td>\n",
              "      <td>9.1004</td>\n",
              "      <td>17.2588</td>\n",
              "      <td>-9.7761</td>\n",
              "    </tr>\n",
              "    <tr>\n",
              "      <th>105035</th>\n",
              "      <td>17.7174</td>\n",
              "      <td>-6.2069</td>\n",
              "      <td>11.3634</td>\n",
              "      <td>5.9928</td>\n",
              "      <td>13.3340</td>\n",
              "      <td>7.1912</td>\n",
              "      <td>5.0301</td>\n",
              "      <td>14.1267</td>\n",
              "      <td>-4.9890</td>\n",
              "      <td>9.0275</td>\n",
              "      <td>...</td>\n",
              "      <td>1.7732</td>\n",
              "      <td>4.8350</td>\n",
              "      <td>2.1923</td>\n",
              "      <td>10.3905</td>\n",
              "      <td>19.8791</td>\n",
              "      <td>-2.1644</td>\n",
              "      <td>10.4597</td>\n",
              "      <td>7.4648</td>\n",
              "      <td>18.0987</td>\n",
              "      <td>-9.5233</td>\n",
              "    </tr>\n",
              "  </tbody>\n",
              "</table>\n",
              "<p>5 rows × 200 columns</p>\n",
              "</div>\n",
              "      <button class=\"colab-df-convert\" onclick=\"convertToInteractive('df-de688a2a-28b6-46c6-a80e-6cbf40c316cb')\"\n",
              "              title=\"Convert this dataframe to an interactive table.\"\n",
              "              style=\"display:none;\">\n",
              "        \n",
              "  <svg xmlns=\"http://www.w3.org/2000/svg\" height=\"24px\"viewBox=\"0 0 24 24\"\n",
              "       width=\"24px\">\n",
              "    <path d=\"M0 0h24v24H0V0z\" fill=\"none\"/>\n",
              "    <path d=\"M18.56 5.44l.94 2.06.94-2.06 2.06-.94-2.06-.94-.94-2.06-.94 2.06-2.06.94zm-11 1L8.5 8.5l.94-2.06 2.06-.94-2.06-.94L8.5 2.5l-.94 2.06-2.06.94zm10 10l.94 2.06.94-2.06 2.06-.94-2.06-.94-.94-2.06-.94 2.06-2.06.94z\"/><path d=\"M17.41 7.96l-1.37-1.37c-.4-.4-.92-.59-1.43-.59-.52 0-1.04.2-1.43.59L10.3 9.45l-7.72 7.72c-.78.78-.78 2.05 0 2.83L4 21.41c.39.39.9.59 1.41.59.51 0 1.02-.2 1.41-.59l7.78-7.78 2.81-2.81c.8-.78.8-2.07 0-2.86zM5.41 20L4 18.59l7.72-7.72 1.47 1.35L5.41 20z\"/>\n",
              "  </svg>\n",
              "      </button>\n",
              "      \n",
              "  <style>\n",
              "    .colab-df-container {\n",
              "      display:flex;\n",
              "      flex-wrap:wrap;\n",
              "      gap: 12px;\n",
              "    }\n",
              "\n",
              "    .colab-df-convert {\n",
              "      background-color: #E8F0FE;\n",
              "      border: none;\n",
              "      border-radius: 50%;\n",
              "      cursor: pointer;\n",
              "      display: none;\n",
              "      fill: #1967D2;\n",
              "      height: 32px;\n",
              "      padding: 0 0 0 0;\n",
              "      width: 32px;\n",
              "    }\n",
              "\n",
              "    .colab-df-convert:hover {\n",
              "      background-color: #E2EBFA;\n",
              "      box-shadow: 0px 1px 2px rgba(60, 64, 67, 0.3), 0px 1px 3px 1px rgba(60, 64, 67, 0.15);\n",
              "      fill: #174EA6;\n",
              "    }\n",
              "\n",
              "    [theme=dark] .colab-df-convert {\n",
              "      background-color: #3B4455;\n",
              "      fill: #D2E3FC;\n",
              "    }\n",
              "\n",
              "    [theme=dark] .colab-df-convert:hover {\n",
              "      background-color: #434B5C;\n",
              "      box-shadow: 0px 1px 3px 1px rgba(0, 0, 0, 0.15);\n",
              "      filter: drop-shadow(0px 1px 2px rgba(0, 0, 0, 0.3));\n",
              "      fill: #FFFFFF;\n",
              "    }\n",
              "  </style>\n",
              "\n",
              "      <script>\n",
              "        const buttonEl =\n",
              "          document.querySelector('#df-de688a2a-28b6-46c6-a80e-6cbf40c316cb button.colab-df-convert');\n",
              "        buttonEl.style.display =\n",
              "          google.colab.kernel.accessAllowed ? 'block' : 'none';\n",
              "\n",
              "        async function convertToInteractive(key) {\n",
              "          const element = document.querySelector('#df-de688a2a-28b6-46c6-a80e-6cbf40c316cb');\n",
              "          const dataTable =\n",
              "            await google.colab.kernel.invokeFunction('convertToInteractive',\n",
              "                                                     [key], {});\n",
              "          if (!dataTable) return;\n",
              "\n",
              "          const docLinkHtml = 'Like what you see? Visit the ' +\n",
              "            '<a target=\"_blank\" href=https://colab.research.google.com/notebooks/data_table.ipynb>data table notebook</a>'\n",
              "            + ' to learn more about interactive tables.';\n",
              "          element.innerHTML = '';\n",
              "          dataTable['output_type'] = 'display_data';\n",
              "          await google.colab.output.renderOutput(dataTable, element);\n",
              "          const docLink = document.createElement('div');\n",
              "          docLink.innerHTML = docLinkHtml;\n",
              "          element.appendChild(docLink);\n",
              "        }\n",
              "      </script>\n",
              "    </div>\n",
              "  </div>\n",
              "  "
            ]
          },
          "metadata": {},
          "execution_count": 26
        }
      ]
    },
    {
      "cell_type": "code",
      "source": [
        "y.sample(5)"
      ],
      "metadata": {
        "colab": {
          "base_uri": "https://localhost:8080/"
        },
        "id": "l43M942PdlAW",
        "outputId": "fdbad9cb-cc6f-4c50-b6ad-59cef1339f06"
      },
      "execution_count": null,
      "outputs": [
        {
          "output_type": "execute_result",
          "data": {
            "text/plain": [
              "117641    0\n",
              "70551     0\n",
              "168468    0\n",
              "180876    1\n",
              "143542    0\n",
              "Name: target, dtype: int64"
            ]
          },
          "metadata": {},
          "execution_count": 27
        }
      ]
    },
    {
      "cell_type": "markdown",
      "source": [
        "**Splitting the data into train and test dataset**"
      ],
      "metadata": {
        "id": "p0mBY1pBdylh"
      }
    },
    {
      "cell_type": "code",
      "source": [
        "X_train, X_test, y_train, y_test = train_test_split(X,y, test_size=0.2, random_state=42)"
      ],
      "metadata": {
        "id": "n0HLuCUqeIH-"
      },
      "execution_count": null,
      "outputs": []
    },
    {
      "cell_type": "markdown",
      "source": [
        "**Machine Learning using - Gradient Boosting Classifier**"
      ],
      "metadata": {
        "id": "annLIhr4esHA"
      }
    },
    {
      "cell_type": "code",
      "source": [
        "from sklearn.ensemble import GradientBoostingClassifier"
      ],
      "metadata": {
        "id": "qLe1FvNmeVVO"
      },
      "execution_count": null,
      "outputs": []
    },
    {
      "cell_type": "markdown",
      "source": [
        "The three main hyperparameters for the GBDT classifier model is \n",
        "\n",
        "\n",
        "1.   n_estimators = Which are nothing but the base learners\n",
        "2.   learning rate = Shrinkgae term\n",
        "3.   max_depth = It is coming from the decission tree concept"
      ],
      "metadata": {
        "id": "tb0zVk4C4o0v"
      }
    },
    {
      "cell_type": "code",
      "source": [
        "gbc = GradientBoostingClassifier(n_estimators = 5000, #Nummber of base learners\n",
        "                                 learning_rate=0.05, # Learning rate for pseudo residuals\n",
        "                                 max_depth=3,  #Max_depth could be choosen less, to make the base learners high bias\n",
        "                                 subsample = 0.5, \n",
        "                                 max_features='log2', \n",
        "                                 verbose = 1, \n",
        "                                 random_state=42,\n",
        "                                 n_iter_no_change=20)"
      ],
      "metadata": {
        "id": "16m5LxGme7mt"
      },
      "execution_count": null,
      "outputs": []
    },
    {
      "cell_type": "code",
      "source": [
        "%%time\n",
        "gbc.fit(X_train,y_train)"
      ],
      "metadata": {
        "colab": {
          "base_uri": "https://localhost:8080/"
        },
        "id": "dWPbIvJBfv-U",
        "outputId": "0c3c33a1-5797-4b1a-e1eb-89460671631a"
      },
      "execution_count": null,
      "outputs": [
        {
          "output_type": "stream",
          "name": "stdout",
          "text": [
            "      Iter       Train Loss      OOB Improve   Remaining Time \n",
            "         1           0.6451           0.0014           19.65m\n",
            "         2           0.6468           0.0011           19.78m\n",
            "         3           0.6473           0.0012           20.11m\n",
            "         4           0.6492           0.0007           20.20m\n",
            "         5           0.6422           0.0007           20.14m\n",
            "         6           0.6466           0.0014           20.18m\n",
            "         7           0.6392           0.0010           20.24m\n",
            "         8           0.6403           0.0011           20.17m\n",
            "         9           0.6419           0.0012           20.16m\n",
            "        10           0.6450           0.0009           20.17m\n",
            "        20           0.6262           0.0008           20.11m\n",
            "        30           0.6184           0.0010           19.98m\n",
            "        40           0.6056           0.0008           19.93m\n",
            "        50           0.6008           0.0007           19.94m\n",
            "        60           0.5953           0.0006           19.92m\n",
            "        70           0.5831           0.0006           19.89m\n",
            "        80           0.5836           0.0006           19.81m\n",
            "        90           0.5714           0.0004           19.75m\n",
            "       100           0.5700           0.0005           19.70m\n",
            "       200           0.5270           0.0003           19.24m\n",
            "       300           0.4920           0.0002           19.07m\n",
            "       400           0.4686           0.0001           18.66m\n",
            "       500           0.4524           0.0001           18.31m\n",
            "       600           0.4365           0.0001           17.89m\n",
            "       700           0.4272           0.0001           17.46m\n",
            "       800           0.4157           0.0000           17.06m\n",
            "       900           0.4089           0.0000           16.66m\n",
            "      1000           0.3989           0.0000           16.24m\n",
            "CPU times: user 7min 7s, sys: 948 ms, total: 7min 8s\n",
            "Wall time: 7min 6s\n"
          ]
        },
        {
          "output_type": "execute_result",
          "data": {
            "text/plain": [
              "GradientBoostingClassifier(learning_rate=0.05, max_features='log2',\n",
              "                           n_estimators=5000, n_iter_no_change=20,\n",
              "                           random_state=42, subsample=0.5, verbose=1)"
            ]
          },
          "metadata": {},
          "execution_count": 31
        }
      ]
    },
    {
      "cell_type": "markdown",
      "source": [
        "We can store the model into .pkl format for future use"
      ],
      "metadata": {
        "id": "nXeUkGzP5GJd"
      }
    },
    {
      "cell_type": "code",
      "source": [
        "import joblib\n",
        "joblib.dump(gbc,'gbc.pkl')"
      ],
      "metadata": {
        "colab": {
          "base_uri": "https://localhost:8080/"
        },
        "id": "yNMSi13CjH1D",
        "outputId": "a5aabc80-d347-47d5-9d64-8c5a08f4b676"
      },
      "execution_count": null,
      "outputs": [
        {
          "output_type": "execute_result",
          "data": {
            "text/plain": [
              "['gbc.pkl']"
            ]
          },
          "metadata": {},
          "execution_count": 36
        }
      ]
    },
    {
      "cell_type": "code",
      "source": [
        "GBDT_clf = joblib.load('/content/gbc.pkl')"
      ],
      "metadata": {
        "id": "ZIqvpT9jjImO"
      },
      "execution_count": null,
      "outputs": []
    },
    {
      "cell_type": "code",
      "source": [
        "# Probability prediction for class label = 1\n",
        "GBDT_clf.predict_proba(X_test).T[1]"
      ],
      "metadata": {
        "colab": {
          "base_uri": "https://localhost:8080/"
        },
        "id": "Sa8_zU9Dj1Dw",
        "outputId": "b61b28d6-4650-4d45-e85b-f8c8250ca44c"
      },
      "execution_count": null,
      "outputs": [
        {
          "output_type": "execute_result",
          "data": {
            "text/plain": [
              "array([0.00173276, 0.04412305, 0.01148146, ..., 0.07995443, 0.27642039,\n",
              "       0.02276288])"
            ]
          },
          "metadata": {},
          "execution_count": 42
        }
      ]
    },
    {
      "cell_type": "code",
      "source": [
        ""
      ],
      "metadata": {
        "id": "MxSLtU6_kimn"
      },
      "execution_count": null,
      "outputs": []
    }
  ]
}